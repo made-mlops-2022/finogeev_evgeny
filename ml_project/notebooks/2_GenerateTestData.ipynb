{
 "cells": [
  {
   "cell_type": "code",
   "execution_count": null,
   "id": "a50bce04-9012-48ba-8811-46f1bf65b2d4",
   "metadata": {},
   "outputs": [],
   "source": [
    "from functools import partial\n",
    "\n",
    "import pandas as pd\n",
    "from sklearn.model_selection import train_test_split"
   ]
  },
  {
   "cell_type": "code",
   "execution_count": null,
   "id": "8691d78d-bfc9-4bcd-b50c-5e11ec017077",
   "metadata": {},
   "outputs": [],
   "source": [
    "df = pd.read_csv(\"../data/heart_cleveland_upload.csv\")"
   ]
  },
  {
   "cell_type": "code",
   "execution_count": null,
   "id": "259e59bb-447f-40d4-8ab1-79af4fdb21e7",
   "metadata": {},
   "outputs": [],
   "source": [
    "y = df['condition'].values\n",
    "X = df.drop(columns=['condition']).values"
   ]
  },
  {
   "cell_type": "code",
   "execution_count": null,
   "id": "01bffccf-4939-419b-add2-862dc2b87aad",
   "metadata": {},
   "outputs": [],
   "source": []
  }
 ],
 "metadata": {
  "kernelspec": {
   "display_name": "Python 3 (ipykernel)",
   "language": "python",
   "name": "python3"
  },
  "language_info": {
   "codemirror_mode": {
    "name": "ipython",
    "version": 3
   },
   "file_extension": ".py",
   "mimetype": "text/x-python",
   "name": "python",
   "nbconvert_exporter": "python",
   "pygments_lexer": "ipython3",
   "version": "3.9.13"
  }
 },
 "nbformat": 4,
 "nbformat_minor": 5
}
